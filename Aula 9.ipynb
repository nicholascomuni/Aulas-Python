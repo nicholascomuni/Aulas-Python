{
 "cells": [
  {
   "cell_type": "markdown",
   "id": "a53e9542-ef44-41ea-af3a-3d3a69d659f3",
   "metadata": {},
   "source": [
    "# Aula 9 - Dicionários\n",
    "## 1. Introdução\n",
    "Os dicionários são uma das estruturas de dados fundamentais no Python. Eles são semelhantes às listas, mas ao invés de usar índices numéricos para acessar os elementos, os dicionários usam chaves para acessar seus valores.\n",
    "\n",
    "Os dicionários são definidos com chaves {} e cada item é composto por uma chave e um valor, separados por dois pontos. As chaves devem ser **únicas** e os valores podem ser de qualquer tipo.\n",
    "\n",
    "Por exemplo, você pode criar um dicionário com informações de uma pessoa, onde as chaves são \"nome\", \"idade\" e \"cidade\" e os valores são os dados correspondentes."
   ]
  },
  {
   "cell_type": "code",
   "execution_count": 2,
   "id": "22ffa49d-2b48-4aeb-aafa-574d860fad0e",
   "metadata": {},
   "outputs": [],
   "source": [
    "joao = {\"nome\": \"João\", \"idade\": 30, \"cidade\": \"São Paulo\"}"
   ]
  },
  {
   "cell_type": "markdown",
   "id": "81e1fdb6-b690-49e1-867d-943ebc29e582",
   "metadata": {},
   "source": [
    "Para acessar os valores no dicionário, você pode usar a chave correspondente entre colchetes."
   ]
  },
  {
   "cell_type": "code",
   "execution_count": 5,
   "id": "49344c35-3674-40d9-b432-e63547ed6eed",
   "metadata": {},
   "outputs": [
    {
     "name": "stdout",
     "output_type": "stream",
     "text": [
      "João\n",
      "30\n"
     ]
    }
   ],
   "source": [
    "print(joao[\"nome\"])\n",
    "print(joao[\"idade\"])"
   ]
  },
  {
   "cell_type": "markdown",
   "id": "b7932f58-c5e5-4ae7-bc67-f4d89b05419a",
   "metadata": {},
   "source": [
    "## 2. A classe dict"
   ]
  },
  {
   "cell_type": "code",
   "execution_count": 7,
   "id": "3e2c26e9-9466-4bd5-8a89-c3c5486e5941",
   "metadata": {},
   "outputs": [
    {
     "data": {
      "text/plain": [
       "dict"
      ]
     },
     "execution_count": 7,
     "metadata": {},
     "output_type": "execute_result"
    }
   ],
   "source": [
    "dict\n",
    "type(joao)"
   ]
  },
  {
   "cell_type": "code",
   "execution_count": 22,
   "id": "9872d33e-1651-44ea-8ae1-d005f9269076",
   "metadata": {},
   "outputs": [
    {
     "data": {
      "text/plain": [
       "{'a': 5, 'b': 10}"
      ]
     },
     "execution_count": 22,
     "metadata": {},
     "output_type": "execute_result"
    }
   ],
   "source": [
    "dict(a=5,b=10)"
   ]
  },
  {
   "cell_type": "markdown",
   "id": "8399864d-b549-4e73-b625-ccd2d84cad0e",
   "metadata": {},
   "source": [
    "## 3. Manipulando os valores"
   ]
  },
  {
   "cell_type": "code",
   "execution_count": 11,
   "id": "93afdb45-6d89-4df2-b66f-d92eee25b189",
   "metadata": {},
   "outputs": [],
   "source": [
    "# Vamos supor que queremos guardar dentro de um dicionário o nome de certas pessoas, junto com suas idades\n",
    "idades = {\"Nicholas\":27, \"Maria\" : 42, \"Jacób\" : 15, \"Bartolomeu\": 94}"
   ]
  },
  {
   "cell_type": "code",
   "execution_count": 12,
   "id": "6fc3c68b-973f-422c-b339-a8b6f87e3021",
   "metadata": {},
   "outputs": [
    {
     "data": {
      "text/plain": [
       "27"
      ]
     },
     "execution_count": 12,
     "metadata": {},
     "output_type": "execute_result"
    }
   ],
   "source": [
    "idades[\"Nicholas\"]"
   ]
  },
  {
   "cell_type": "markdown",
   "id": "b7c5d3b8-8bcb-45be-9a23-c85f89a71790",
   "metadata": {},
   "source": [
    "#### -> Adicionando novos itens:"
   ]
  },
  {
   "cell_type": "code",
   "execution_count": 15,
   "id": "45263eb6-3d32-45de-b3b4-27605b677292",
   "metadata": {},
   "outputs": [],
   "source": [
    "idades[\"Silvio\"] = 62"
   ]
  },
  {
   "cell_type": "markdown",
   "id": "861a3796-336a-421d-8f6c-3ab2a21043d6",
   "metadata": {},
   "source": [
    "#### -> Alterando o valor dos itens:"
   ]
  },
  {
   "cell_type": "code",
   "execution_count": 14,
   "id": "25b3d644-e27c-4534-932a-6d145d30f282",
   "metadata": {},
   "outputs": [],
   "source": [
    "idades[\"Silvio\"] = 30"
   ]
  },
  {
   "cell_type": "markdown",
   "id": "53705650-6654-4364-9d02-c46bf9a0c409",
   "metadata": {},
   "source": [
    "#### -> Retornar as chaves do dicionário:"
   ]
  },
  {
   "cell_type": "code",
   "execution_count": 16,
   "id": "0e5dd1cd-3da7-45f8-a7be-39bfdb720399",
   "metadata": {},
   "outputs": [
    {
     "data": {
      "text/plain": [
       "dict_keys(['Nicholas', 'Maria', 'Jacób', 'Bartolomeu', 'Silvio'])"
      ]
     },
     "execution_count": 16,
     "metadata": {},
     "output_type": "execute_result"
    }
   ],
   "source": [
    "idades.keys()"
   ]
  },
  {
   "cell_type": "markdown",
   "id": "b33d5fec-a1fd-4579-8c28-d2a3cf030fc0",
   "metadata": {},
   "source": [
    "#### -> Retornar todos os valores do dicionário:"
   ]
  },
  {
   "cell_type": "code",
   "execution_count": 17,
   "id": "66563e44-94be-40fc-8cee-970e6341ae7a",
   "metadata": {},
   "outputs": [
    {
     "data": {
      "text/plain": [
       "dict_values([27, 42, 15, 94, 62])"
      ]
     },
     "execution_count": 17,
     "metadata": {},
     "output_type": "execute_result"
    }
   ],
   "source": [
    "idades.values()"
   ]
  },
  {
   "cell_type": "markdown",
   "id": "e0df7051-7384-4d3c-9217-ed4f7f1bc630",
   "metadata": {},
   "source": [
    "#### -> Retornar todos os conjuntos chave-valor do dicionário:"
   ]
  },
  {
   "cell_type": "code",
   "execution_count": 18,
   "id": "8a2cfb28-cc9d-4e4d-8635-8b640dc3a484",
   "metadata": {},
   "outputs": [
    {
     "data": {
      "text/plain": [
       "dict_items([('Nicholas', 27), ('Maria', 42), ('Jacób', 15), ('Bartolomeu', 94), ('Silvio', 62)])"
      ]
     },
     "execution_count": 18,
     "metadata": {},
     "output_type": "execute_result"
    }
   ],
   "source": [
    "idades.items()"
   ]
  },
  {
   "cell_type": "markdown",
   "id": "ef0dcf9c-0531-4498-bee3-2992747901f1",
   "metadata": {},
   "source": [
    "#### -> Remover um item:"
   ]
  },
  {
   "cell_type": "code",
   "execution_count": 47,
   "id": "58ac4ebb-d94f-4fa0-a555-8545a72f9f6d",
   "metadata": {},
   "outputs": [],
   "source": [
    "del idades[\"Silvio\"]"
   ]
  },
  {
   "cell_type": "markdown",
   "id": "2d203d06-06c7-4333-b342-4398f262344c",
   "metadata": {},
   "source": [
    "## 4. Loops e iterações com dicionários"
   ]
  },
  {
   "cell_type": "code",
   "execution_count": 25,
   "id": "2eea3b74-f5d8-4d48-b9ec-a5664d45c69b",
   "metadata": {},
   "outputs": [
    {
     "name": "stdout",
     "output_type": "stream",
     "text": [
      "27\n",
      "42\n",
      "15\n",
      "94\n"
     ]
    }
   ],
   "source": [
    "for key in idades.keys():\n",
    "    print(idades[key])"
   ]
  },
  {
   "cell_type": "code",
   "execution_count": 26,
   "id": "8089c679-5f30-4097-aad9-a22238afbf77",
   "metadata": {},
   "outputs": [
    {
     "name": "stdout",
     "output_type": "stream",
     "text": [
      "27\n",
      "42\n",
      "15\n",
      "94\n"
     ]
    }
   ],
   "source": [
    "for valor in idades.values():\n",
    "    print(valor)"
   ]
  },
  {
   "cell_type": "code",
   "execution_count": 27,
   "id": "e55eaf2c-8366-418e-8db8-78a5d74f4669",
   "metadata": {},
   "outputs": [
    {
     "name": "stdout",
     "output_type": "stream",
     "text": [
      "Nicholas 27\n",
      "Maria 42\n",
      "Jacób 15\n",
      "Bartolomeu 94\n"
     ]
    }
   ],
   "source": [
    "for key, valor in idades.items():\n",
    "    print(key, valor)"
   ]
  },
  {
   "cell_type": "markdown",
   "id": "9e7492f7-f662-4fca-9cbc-a60913faa98f",
   "metadata": {},
   "source": [
    "## 5. Exercício\n",
    "Dado o seguinte histórico de compras de clientes, qual cliente realizou a compra com o maior valor?"
   ]
  },
  {
   "cell_type": "code",
   "execution_count": 38,
   "id": "9c2ef19f-12a3-4e52-822a-50228bbe4775",
   "metadata": {},
   "outputs": [],
   "source": [
    "clientes = [\n",
    "{\"Nome\":\"Nicholas\", \"idade\": 27, \"Ultima Compra\": \"01/01/2022\", \"Valor Compra\": 742.50},\n",
    "    \n",
    "{\"Nome\":\"Maria\", \"idade\": 42, \"Ultima Compra\": \"11/08/2022\", \"Valor Compra\": 55.00},\n",
    "    \n",
    "{\"Nome\":\"Jacób\", \"idade\": 15, \"Ultima Compra\": \"15/05/2022\", \"Valor Compra\": 63.90},\n",
    "    \n",
    "{\"Nome\":\"Bartolomeu\", \"idade\": 94, \"Ultima Compra\": \"04/01/2023\", \"Valor Compra\": 1232.70},\n",
    "    \n",
    "{\"Nome\":\"Tarcísio\", \"idade\": 44, \"Ultima Compra\": \"22/11/2022\", \"Valor Compra\": 244.20}\n",
    "]"
   ]
  },
  {
   "cell_type": "code",
   "execution_count": 46,
   "id": "408a5e70-2bcf-4aaa-8ba7-bb1b9827d39f",
   "metadata": {},
   "outputs": [
    {
     "name": "stdout",
     "output_type": "stream",
     "text": [
      "1232.7 Bartolomeu\n"
     ]
    }
   ],
   "source": [
    "valor_maior_compra = 0\n",
    "cliente_maior_compra = \"\"\n",
    "\n",
    "for cliente in clientes:\n",
    "    if cliente[\"Valor Compra\"] > maior_compra:\n",
    "        cliente_maior_compra = cliente[\"Nome\"]\n",
    "        valor_maior_compra = cliente[\"Valor Compra\"]\n",
    "        \n",
    "print(maior_compra, cliente_maior_compra)"
   ]
  },
  {
   "cell_type": "code",
   "execution_count": null,
   "id": "81e92f02-e9f7-4b88-8655-3ba2710d7c0d",
   "metadata": {},
   "outputs": [],
   "source": []
  }
 ],
 "metadata": {
  "kernelspec": {
   "display_name": "Python 3 (ipykernel)",
   "language": "python",
   "name": "python3"
  },
  "language_info": {
   "codemirror_mode": {
    "name": "ipython",
    "version": 3
   },
   "file_extension": ".py",
   "mimetype": "text/x-python",
   "name": "python",
   "nbconvert_exporter": "python",
   "pygments_lexer": "ipython3",
   "version": "3.10.5"
  }
 },
 "nbformat": 4,
 "nbformat_minor": 5
}
