{
 "cells": [
  {
   "cell_type": "markdown",
   "id": "423e948c-8c44-4fcf-8870-eed792f6342c",
   "metadata": {},
   "source": [
    "# Aula 8 - Listas\n",
    "## 1. Introdução - O que são listas?\n",
    "\n",
    "Uma lista (list) em Python é uma sequência ou coleção ordenada de valores. \n",
    "Para se definir uma lista utiliza-se colchetes [ ]\n",
    "- Os elementos dentro de uma lista são separados por vírgulas ,\n",
    "- Os elementos dentro da lista podem ser de qualquer tipo\n",
    "- Cada elemento na lista é identificado por um índice"
   ]
  },
  {
   "cell_type": "markdown",
   "id": "8d3cf4d1-1ce0-45c5-97dd-40bc38dea973",
   "metadata": {},
   "source": [
    "Lista com strings:"
   ]
  },
  {
   "cell_type": "code",
   "execution_count": null,
   "id": "7f66fd91-fb60-4059-a55f-0fd61d06cddf",
   "metadata": {},
   "outputs": [],
   "source": [
    "lista = [\"Frango\",\"Presunto\",\"Queijo\"]\n",
    "print(lista)"
   ]
  },
  {
   "cell_type": "markdown",
   "id": "9d8f7aae-84b2-4871-a966-059510d03265",
   "metadata": {},
   "source": [
    "Lista com diversos tipos de variáveis"
   ]
  },
  {
   "cell_type": "code",
   "execution_count": null,
   "id": "0fd429d9-a0e0-40be-9b50-e0ba084af095",
   "metadata": {},
   "outputs": [],
   "source": [
    "lista = [\"Peixe\", 5000, True, [\"Outra Lista\"]]\n",
    "print(lista)"
   ]
  },
  {
   "cell_type": "markdown",
   "id": "47899538-60ff-4b80-ad6d-0cf2c1b73ff8",
   "metadata": {},
   "source": [
    "## 2. Índices\n",
    "Para se acessar um índice em uma lista utiliza-se colchetes"
   ]
  },
  {
   "cell_type": "code",
   "execution_count": null,
   "id": "02d60cc6-ec42-4229-b0e3-bc399711e350",
   "metadata": {},
   "outputs": [],
   "source": [
    "lista[0] # Primeiro elemento"
   ]
  },
  {
   "cell_type": "code",
   "execution_count": null,
   "id": "772ba6e0-c7c5-42e6-a14f-3a59a9e18cb8",
   "metadata": {},
   "outputs": [],
   "source": [
    "lista[2] # Terceiro elemento"
   ]
  },
  {
   "cell_type": "code",
   "execution_count": null,
   "id": "246a9d67-a256-4432-b82d-86e1f6b8e049",
   "metadata": {},
   "outputs": [],
   "source": [
    "lista[-1] # Último elemento"
   ]
  },
  {
   "cell_type": "markdown",
   "id": "533da33e-69e1-4550-98c8-65a7267a010a",
   "metadata": {},
   "source": [
    "#### Slicing\n",
    "Podemos selecionar um range de índices utilizando slicing"
   ]
  },
  {
   "cell_type": "code",
   "execution_count": 123,
   "id": "fc41c4f7-784d-4bae-95d8-73d75c53ed07",
   "metadata": {},
   "outputs": [],
   "source": [
    "lista = [\"Frango\", \"Presunto\", \"Queijo\", \"Sal\", \"Arroz\", \"Farinha\", \"Feijão\", \"Macarrão\"]"
   ]
  },
  {
   "cell_type": "code",
   "execution_count": null,
   "id": "ef0ebb54-232c-4e4e-86d2-f7a70a2e4569",
   "metadata": {},
   "outputs": [],
   "source": [
    "lista[0:3] # Do índice 0 ao 3"
   ]
  },
  {
   "cell_type": "code",
   "execution_count": null,
   "id": "57d403c3-eadf-4aba-af2e-545682e1a569",
   "metadata": {},
   "outputs": [],
   "source": [
    "lista[4:] # Do índice 4 em diante"
   ]
  },
  {
   "cell_type": "code",
   "execution_count": null,
   "id": "c894ac28-21c6-4198-a438-8c7d7005728b",
   "metadata": {},
   "outputs": [],
   "source": [
    "lista[:3] # Até o índice 3"
   ]
  },
  {
   "cell_type": "code",
   "execution_count": null,
   "id": "b0c3ec82-124e-4c5a-8d72-c11705447a9e",
   "metadata": {},
   "outputs": [],
   "source": [
    "lista[:-2] # Até o penúltimo elemento"
   ]
  },
  {
   "cell_type": "code",
   "execution_count": null,
   "id": "546511ba-f1b9-4c14-bc0f-f96540f92410",
   "metadata": {},
   "outputs": [],
   "source": [
    "lista[-2:] # Do penúltimo elemento em diante"
   ]
  },
  {
   "cell_type": "markdown",
   "id": "77fbdcd9-bebe-4240-8bd1-a24b88b74b45",
   "metadata": {},
   "source": [
    "## 3. Classe list e casting\n",
    "A classe que define uma lista se chama list"
   ]
  },
  {
   "cell_type": "code",
   "execution_count": null,
   "id": "ec27b98d-f8c9-4dbe-8885-d036075120d5",
   "metadata": {},
   "outputs": [],
   "source": [
    "list"
   ]
  },
  {
   "cell_type": "code",
   "execution_count": null,
   "id": "5dcad297-94e4-4038-82f7-f2e704427277",
   "metadata": {},
   "outputs": [],
   "source": [
    "type(lista)"
   ]
  },
  {
   "cell_type": "code",
   "execution_count": null,
   "id": "695cd3ef-baed-43cc-9b76-0c760f1836b9",
   "metadata": {},
   "outputs": [],
   "source": [
    "list((\"a\",\"b\"))"
   ]
  },
  {
   "cell_type": "markdown",
   "id": "e426553c-6e2d-4e98-861f-65e01e57fb5a",
   "metadata": {},
   "source": [
    "## 4. Alterando os elementos dentro de uma lista"
   ]
  },
  {
   "cell_type": "code",
   "execution_count": 124,
   "id": "cc3fa4fa-560c-41d3-b784-e483091227eb",
   "metadata": {},
   "outputs": [
    {
     "name": "stdout",
     "output_type": "stream",
     "text": [
      "['Frango', 'Presunto', 'Queijo', 'Sal', 'Arroz', 'Farinha', 'Feijão', 'Macarrão']\n"
     ]
    }
   ],
   "source": [
    "print(lista)"
   ]
  },
  {
   "cell_type": "code",
   "execution_count": 125,
   "id": "93af66cd-968f-4e09-8362-ed72af06cb8a",
   "metadata": {},
   "outputs": [
    {
     "name": "stdout",
     "output_type": "stream",
     "text": [
      "['Banana', 'Presunto', 'Queijo', 'Sal', 'Arroz', 'Farinha', 'Feijão', 'Macarrão']\n"
     ]
    }
   ],
   "source": [
    "lista[0] = \"Banana\"\n",
    "print(lista)"
   ]
  },
  {
   "cell_type": "code",
   "execution_count": 126,
   "id": "b55dce4e-a7bf-4608-b7c9-6a6e674606b1",
   "metadata": {},
   "outputs": [
    {
     "name": "stdout",
     "output_type": "stream",
     "text": [
      "['Banana', 'Presunto', 'Queijo', 'Sal', 'Açúcar', 'Farinha', 'Feijão', 'Macarrão']\n"
     ]
    }
   ],
   "source": [
    "lista[4] = \"Açúcar\"\n",
    "print(lista)"
   ]
  },
  {
   "cell_type": "markdown",
   "id": "9f6fce9e-b963-4892-8e16-34d41a31896b",
   "metadata": {},
   "source": [
    "## 5. Métodos e funções de listas"
   ]
  },
  {
   "cell_type": "markdown",
   "id": "4020bdf0-73d8-42c0-99b1-b8c8c04689ca",
   "metadata": {},
   "source": [
    "#### -> Len\n",
    "Utilizado para sabermos o tamanho de uma lista, ou seja, quantos elementos há na lista"
   ]
  },
  {
   "cell_type": "code",
   "execution_count": 127,
   "id": "f9aaa2dc-1073-4b95-b3a0-38505d8b92f6",
   "metadata": {},
   "outputs": [
    {
     "data": {
      "text/plain": [
       "8"
      ]
     },
     "execution_count": 127,
     "metadata": {},
     "output_type": "execute_result"
    }
   ],
   "source": [
    "len(lista)"
   ]
  },
  {
   "cell_type": "markdown",
   "id": "c51313db-9d08-49f0-8125-1a15324f2047",
   "metadata": {},
   "source": [
    "#### -> insert\n",
    "Insere um novo elemento em um dado índice:"
   ]
  },
  {
   "cell_type": "code",
   "execution_count": 128,
   "id": "609d0927-fd07-4132-9b69-f07d07302375",
   "metadata": {},
   "outputs": [
    {
     "name": "stdout",
     "output_type": "stream",
     "text": [
      "['Banana', 'Presunto', 'Melão', 'Queijo', 'Sal', 'Açúcar', 'Farinha', 'Feijão', 'Macarrão']\n"
     ]
    }
   ],
   "source": [
    "lista.insert(2, \"Melão\")\n",
    "print(lista)"
   ]
  },
  {
   "cell_type": "markdown",
   "id": "7c91916e-fe28-4b73-bc2b-5894ce940007",
   "metadata": {},
   "source": [
    "#### -> Append\n",
    "Coloca um novo elemento ao final da lista:"
   ]
  },
  {
   "cell_type": "code",
   "execution_count": 129,
   "id": "421a6ed3-a78c-4dcd-a784-5e370124f3e7",
   "metadata": {},
   "outputs": [
    {
     "name": "stdout",
     "output_type": "stream",
     "text": [
      "['Banana', 'Presunto', 'Melão', 'Queijo', 'Sal', 'Açúcar', 'Farinha', 'Feijão', 'Macarrão', 'Cerveja']\n"
     ]
    }
   ],
   "source": [
    "lista.append(\"Cerveja\")\n",
    "print(lista)"
   ]
  },
  {
   "cell_type": "markdown",
   "id": "59932c62-8f63-4427-ae75-af5208e7b072",
   "metadata": {},
   "source": [
    "#### -> Remove\n",
    "Remove um elemento da lista:"
   ]
  },
  {
   "cell_type": "code",
   "execution_count": 130,
   "id": "57fe6b0e-0f2a-472c-bd5e-7646f0421fed",
   "metadata": {},
   "outputs": [
    {
     "name": "stdout",
     "output_type": "stream",
     "text": [
      "['Presunto', 'Melão', 'Queijo', 'Sal', 'Açúcar', 'Farinha', 'Feijão', 'Macarrão', 'Cerveja']\n"
     ]
    }
   ],
   "source": [
    "lista.remove(\"Banana\")\n",
    "print(lista)"
   ]
  },
  {
   "cell_type": "markdown",
   "id": "1f983db0-d60a-4257-8753-98555fcc679f",
   "metadata": {},
   "source": [
    "#### -> Pop\n",
    "Remove o último elemento da lista:"
   ]
  },
  {
   "cell_type": "code",
   "execution_count": 131,
   "id": "98a3f06f-0f0f-4a0d-8310-2e6c6efa5592",
   "metadata": {},
   "outputs": [
    {
     "name": "stdout",
     "output_type": "stream",
     "text": [
      "['Presunto', 'Melão', 'Queijo', 'Sal', 'Açúcar', 'Farinha', 'Feijão', 'Macarrão']\n"
     ]
    }
   ],
   "source": [
    "lista.pop()\n",
    "print(lista)"
   ]
  },
  {
   "cell_type": "markdown",
   "id": "1e6979a9-8397-4bbb-8f68-0d042a76961a",
   "metadata": {},
   "source": [
    "#### -> Sort\n",
    "Ordena a lista:"
   ]
  },
  {
   "cell_type": "code",
   "execution_count": 132,
   "id": "986653ec-b9e6-4817-a722-7142d75183d7",
   "metadata": {},
   "outputs": [
    {
     "name": "stdout",
     "output_type": "stream",
     "text": [
      "['Açúcar', 'Farinha', 'Feijão', 'Macarrão', 'Melão', 'Presunto', 'Queijo', 'Sal']\n"
     ]
    }
   ],
   "source": [
    "lista.sort()\n",
    "print(lista)"
   ]
  },
  {
   "cell_type": "markdown",
   "id": "c7ed1cb6-b134-4866-a01d-3efdcc605fc0",
   "metadata": {},
   "source": [
    "#### -> Index\n",
    "Retorna o índice de um dado elemento"
   ]
  },
  {
   "cell_type": "code",
   "execution_count": 133,
   "id": "93492784-b581-4a16-94f8-b40c05ff6f3a",
   "metadata": {},
   "outputs": [
    {
     "data": {
      "text/plain": [
       "2"
      ]
     },
     "execution_count": 133,
     "metadata": {},
     "output_type": "execute_result"
    }
   ],
   "source": [
    "lista.index(\"Feijão\")"
   ]
  },
  {
   "cell_type": "markdown",
   "id": "40be6979-57c8-48ed-b3f9-4ec14138590c",
   "metadata": {},
   "source": [
    "## 6. Loop e iteração em listas"
   ]
  },
  {
   "cell_type": "code",
   "execution_count": 134,
   "id": "63cbbe37-4ab0-455e-a17e-8b4c8db650d8",
   "metadata": {},
   "outputs": [
    {
     "name": "stdout",
     "output_type": "stream",
     "text": [
      "Açúcar\n",
      "Farinha\n",
      "Feijão\n",
      "Macarrão\n",
      "Melão\n",
      "Presunto\n",
      "Queijo\n",
      "Sal\n"
     ]
    }
   ],
   "source": [
    "# Iterar pelos ementos da lista\n",
    "for elemento in lista:\n",
    "    print(elemento)"
   ]
  },
  {
   "cell_type": "code",
   "execution_count": 135,
   "id": "79092c76-b7a2-4762-9201-757020666d8d",
   "metadata": {},
   "outputs": [
    {
     "name": "stdout",
     "output_type": "stream",
     "text": [
      "Açúcar\n",
      "Farinha\n",
      "Feijão\n",
      "Macarrão\n",
      "Melão\n",
      "Presunto\n",
      "Queijo\n",
      "Sal\n"
     ]
    }
   ],
   "source": [
    "# Iterar pelos índices da lista\n",
    "for indice in range(len(lista)):\n",
    "    print(lista[indice])"
   ]
  },
  {
   "cell_type": "code",
   "execution_count": null,
   "id": "7f080a08-7c94-41cf-903b-a216698d90c5",
   "metadata": {},
   "outputs": [],
   "source": [
    "# Padrão muito utilizado para formar uma nova lista a partir de uma iteração\n",
    "nova_lista = []\n",
    "\n",
    "for elemento in lista:\n",
    "    nova_lista.append(elemento.upper())\n",
    "\n",
    "print(nova_lista)"
   ]
  },
  {
   "cell_type": "markdown",
   "id": "6c2285f0-b509-485c-90f3-92309a59986a",
   "metadata": {},
   "source": [
    "## 7. Copiando uma lista\n",
    "Para copiarmos uma lista precisamos utilizar o método copy, vamos entender porque:"
   ]
  },
  {
   "cell_type": "code",
   "execution_count": null,
   "id": "f561a5b9-b154-44e6-a67b-bf8b3620ddc0",
   "metadata": {},
   "outputs": [],
   "source": [
    "lista1 = [1,2,3,4]"
   ]
  },
  {
   "cell_type": "code",
   "execution_count": null,
   "id": "1ae9a227-74b4-46c8-88a5-c6208389da5b",
   "metadata": {},
   "outputs": [],
   "source": [
    "lista2 = lista1\n",
    "print(lista2)"
   ]
  },
  {
   "cell_type": "code",
   "execution_count": null,
   "id": "5fe096c6-0dd8-4b09-9a93-c7efdaebe23b",
   "metadata": {},
   "outputs": [],
   "source": [
    "lista2[0] = 200\n",
    "print(lista2)"
   ]
  },
  {
   "cell_type": "code",
   "execution_count": null,
   "id": "4180fb5b-d5d6-4cec-8bee-5a3400c8e1d0",
   "metadata": {},
   "outputs": [],
   "source": [
    "lista1[0] = 200\n",
    "print(lista1)"
   ]
  },
  {
   "cell_type": "markdown",
   "id": "f21e1fef-b19d-4c2b-a742-b3137f2a7bbf",
   "metadata": {},
   "source": [
    "**Agora utilizando método copy**"
   ]
  },
  {
   "cell_type": "code",
   "execution_count": null,
   "id": "86fdebbb-fbc9-4f43-90e8-bc7e7ef81dae",
   "metadata": {},
   "outputs": [],
   "source": [
    "lista1 = [1,2,3,4]\n",
    "lista2 = lista1.copy()\n",
    "\n",
    "lista2[0] = 200\n",
    "print(lista1)\n",
    "print(lista2)"
   ]
  },
  {
   "cell_type": "markdown",
   "id": "0746db5c-5b77-40a6-b6c1-ce1239ca965f",
   "metadata": {},
   "source": [
    "#### Combinando listas"
   ]
  },
  {
   "cell_type": "code",
   "execution_count": null,
   "id": "804aac3d-1ca0-48b7-a9c3-8e64a28a2035",
   "metadata": {},
   "outputs": [],
   "source": [
    "lista1 = [1,2,3,4]\n",
    "lista2 = [5,6,7,8]\n",
    "\n",
    "lista3 = lista1 + lista2\n",
    "\n",
    "print(lista3)"
   ]
  },
  {
   "cell_type": "code",
   "execution_count": null,
   "id": "c00b9f7b-8772-4f88-9952-2e3841600160",
   "metadata": {},
   "outputs": [],
   "source": [
    "lista1.extend(lista2)\n",
    "print(lista1)"
   ]
  }
 ],
 "metadata": {
  "kernelspec": {
   "display_name": "Python 3 (ipykernel)",
   "language": "python",
   "name": "python3"
  },
  "language_info": {
   "codemirror_mode": {
    "name": "ipython",
    "version": 3
   },
   "file_extension": ".py",
   "mimetype": "text/x-python",
   "name": "python",
   "nbconvert_exporter": "python",
   "pygments_lexer": "ipython3",
   "version": "3.10.5"
  }
 },
 "nbformat": 4,
 "nbformat_minor": 5
}
