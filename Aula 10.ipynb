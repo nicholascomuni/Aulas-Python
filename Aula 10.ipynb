{
 "cells": [
  {
   "cell_type": "markdown",
   "id": "7fe0e1f4-ed61-48f1-b208-f44967a442a7",
   "metadata": {},
   "source": [
    "# Aula 10 - Funções\n",
    "## 1. Introdução\n",
    "Uma função é um conjunto de instruções que realizam uma tarefa específica. \n",
    "\n",
    "Elas são criadas com a palavra-chave \"def\" e podem aceitar parâmetros de entrada (também conhecidos como argumentos) e retornar valores. \n",
    "\n",
    "Funções são úteis para organizar o código, permitindo que você divida um problema complexo em partes menores e mais fáceis de entender. Além disso, as funções podem ser **reutilizadas** várias vezes, o que ajuda a evitar a duplicação de código."
   ]
  },
  {
   "cell_type": "code",
   "execution_count": 32,
   "id": "c31e2cfd-af4a-4b40-ba85-2895a210a0bf",
   "metadata": {},
   "outputs": [],
   "source": [
    "def hello_world():\n",
    "    print(\"Hello World!\")"
   ]
  },
  {
   "cell_type": "code",
   "execution_count": 34,
   "id": "51365703-2a3b-415d-8dc4-c6041230fe23",
   "metadata": {},
   "outputs": [],
   "source": [
    "def soma(a, b):\n",
    "    print(a + b)"
   ]
  },
  {
   "cell_type": "code",
   "execution_count": 35,
   "id": "12d1a00d-55e6-46eb-a63f-13cb4e1d9631",
   "metadata": {},
   "outputs": [
    {
     "name": "stdout",
     "output_type": "stream",
     "text": [
      "15\n"
     ]
    }
   ],
   "source": [
    "soma(5, 10)"
   ]
  },
  {
   "cell_type": "markdown",
   "id": "b174179a-f948-434a-bb25-b5eb21942d03",
   "metadata": {},
   "source": [
    "A função pode retornar um valor usando a palavra-chave **return**."
   ]
  },
  {
   "cell_type": "code",
   "execution_count": 36,
   "id": "491f9020-47a3-45e3-a541-2812f6469541",
   "metadata": {},
   "outputs": [
    {
     "data": {
      "text/plain": [
       "7"
      ]
     },
     "execution_count": 36,
     "metadata": {},
     "output_type": "execute_result"
    }
   ],
   "source": [
    "def soma(a, b):\n",
    "    return a + b\n",
    "\n",
    "resultado = soma(3, 4)\n",
    "resultado"
   ]
  },
  {
   "cell_type": "markdown",
   "id": "8bdf3e59-cff5-4680-8f73-aa966efeddd4",
   "metadata": {},
   "source": [
    "## 2. Escopo das variáveis em funções"
   ]
  },
  {
   "cell_type": "markdown",
   "id": "64912f80-824c-4a25-9299-df9818beee8b",
   "metadata": {},
   "source": [
    "Em Python, o escopo de uma variável é o conjunto de partes do código onde ela é visível e pode ser acessada. O escopo de uma variável pode ser global ou local.\n",
    "\n",
    "Variáveis globais são aquelas que são definidas fora de qualquer função e podem ser acessadas em qualquer parte do código.\n",
    "\n",
    "Variáveis locais são aquelas que são definidas dentro de uma função e só podem ser acessadas dentro dessa função.\n",
    "\n",
    "Quando uma função é chamada, é criado um novo escopo local para as variáveis definidas dentro da função. Assim, as variáveis locais dentro de uma função não afetam as variáveis globais com o mesmo nome e vice-versa."
   ]
  },
  {
   "cell_type": "code",
   "execution_count": 45,
   "id": "d2012a56-edc3-4c03-91a8-d2d52e04e69b",
   "metadata": {},
   "outputs": [
    {
     "name": "stdout",
     "output_type": "stream",
     "text": [
      "5\n"
     ]
    }
   ],
   "source": [
    "x = 10\n",
    "\n",
    "def my_function():\n",
    "    x = 5\n",
    "    print(x)\n",
    "    \n",
    "my_function()"
   ]
  },
  {
   "cell_type": "markdown",
   "id": "941ed35f-36cb-4920-8138-cb8c5267ba66",
   "metadata": {},
   "source": [
    "## 3. Combinando Funções"
   ]
  },
  {
   "cell_type": "code",
   "execution_count": 50,
   "id": "7dcd273c-6e44-4165-94a3-bd8dc5b34443",
   "metadata": {},
   "outputs": [
    {
     "data": {
      "text/plain": [
       "'Olá, meu nome é Nicholas Comuni e tenho 27 anos!'"
      ]
     },
     "execution_count": 50,
     "metadata": {},
     "output_type": "execute_result"
    }
   ],
   "source": [
    "def nome_completo(nome, sobrenome):\n",
    "    return nome + \" \" + sobrenome\n",
    "\n",
    "def monta_frase(nome, sobrenome, idade):\n",
    "    nome_formatado = nome_completo(nome, sobrenome)\n",
    "    \n",
    "    return f\"Olá, meu nome é {nome_formatado} e tenho {idade} anos!\"\n",
    "    \n",
    "monta_frase(\"Nicholas\", \"Comuni\", 27)"
   ]
  },
  {
   "cell_type": "code",
   "execution_count": 51,
   "id": "affedecf-e647-48ad-9d7c-20f862e9af7c",
   "metadata": {},
   "outputs": [
    {
     "name": "stdout",
     "output_type": "stream",
     "text": [
      "Inicializando programa...\n",
      "Buscando os dados...\n",
      "Tratando os dados...\n",
      "Salvando os dados...\n",
      "Encerrando programa...\n"
     ]
    }
   ],
   "source": [
    "def busca_dados():\n",
    "    print(\"Buscando os dados...\")\n",
    "    \n",
    "    return []\n",
    "\n",
    "def tratar_dados(dados):\n",
    "    print(\"Tratando os dados...\")\n",
    "    return dados*2\n",
    "\n",
    "def salvar_dados(dados):\n",
    "    print(\"Salvando os dados...\")\n",
    "\n",
    "    \n",
    "def run():\n",
    "    print(\"Inicializando programa...\")\n",
    "    \n",
    "    dados = busca_dados()\n",
    "    \n",
    "    dados = tratar_dados(dados)\n",
    "    \n",
    "    salvar_dados(dados)\n",
    "    \n",
    "    print(\"Encerrando programa...\")\n",
    "\n",
    "run()"
   ]
  },
  {
   "cell_type": "code",
   "execution_count": 30,
   "id": "bfba4f49-8a77-4f28-98d8-5fc231ab4ccb",
   "metadata": {},
   "outputs": [],
   "source": []
  },
  {
   "cell_type": "markdown",
   "id": "6fc63897-2c17-40da-99d5-5fd166f2d09c",
   "metadata": {},
   "source": [
    "## 4. Exercícios"
   ]
  },
  {
   "cell_type": "markdown",
   "id": "7cf49645-1668-4889-9dcf-9a9813c65354",
   "metadata": {},
   "source": [
    "### -> Exercício 1\n",
    "Escreva uma função chamada \"maior_numero\" que recebe dois números como argumentos e retorna o maior deles."
   ]
  },
  {
   "cell_type": "code",
   "execution_count": 53,
   "id": "d34dbded-90d1-4748-bbd9-31b77de01f77",
   "metadata": {},
   "outputs": [
    {
     "data": {
      "text/plain": [
       "5"
      ]
     },
     "execution_count": 53,
     "metadata": {},
     "output_type": "execute_result"
    }
   ],
   "source": [
    "def maior_numero(num1, num2):\n",
    "    if num1 > num2:\n",
    "        return num1\n",
    "    else:\n",
    "        return num2\n",
    "    \n",
    "maior_numero(4, 5)"
   ]
  },
  {
   "cell_type": "markdown",
   "id": "35323e0c-8859-44e5-9f18-0c125d1583d9",
   "metadata": {},
   "source": [
    "### Exercício 2\n",
    "- Escreva uma função chamada \"maior_valor\" que recebe uma lista como argumento e retorna o maior valor encontrado na lista.\n",
    "\n",
    "- Em seguida, escreva uma outra função chamada \"remover_valor\" que recebe a lista e o valor a ser removido e retorna a lista sem esse valor.\n",
    "\n",
    "- Por fim, escreva uma terceira função chamada \"remover_maior\" que recebe uma lista como argumento e utiliza as funções \"maior_valor\" e \"remover_valor\" para encontrar e remover o maior valor da lista."
   ]
  },
  {
   "cell_type": "code",
   "execution_count": 54,
   "id": "799b955e-f16d-42f6-85e9-f5249c2781a6",
   "metadata": {},
   "outputs": [],
   "source": [
    "def maior_valor(lista):\n",
    "    maior = lista[0]\n",
    "    for i in lista:\n",
    "        if i > maior:\n",
    "            maior = i\n",
    "    return maior"
   ]
  },
  {
   "cell_type": "code",
   "execution_count": 56,
   "id": "a7728d80-f244-4a56-8a9b-5c248872ac45",
   "metadata": {},
   "outputs": [],
   "source": [
    "def remover_valor(lista, valor):\n",
    "    lista.remove(valor)\n",
    "    return lista"
   ]
  },
  {
   "cell_type": "code",
   "execution_count": 58,
   "id": "5c671753-fef5-4da2-a54b-d176d8367b9b",
   "metadata": {},
   "outputs": [],
   "source": [
    "def remover_maior(lista):\n",
    "    valor_maior = maior_valor(lista)\n",
    "    lista = remover_valor(lista, valor_maior)\n",
    "    return lista"
   ]
  },
  {
   "cell_type": "code",
   "execution_count": 60,
   "id": "a669705d-2cfd-4f26-90b7-70a61fa8da08",
   "metadata": {},
   "outputs": [
    {
     "data": {
      "text/plain": [
       "[5, 7, 8, 2, 9, 1]"
      ]
     },
     "execution_count": 60,
     "metadata": {},
     "output_type": "execute_result"
    }
   ],
   "source": [
    "minha_lista = [5,7,23,8,2,9,1]\n",
    "\n",
    "remover_maior(minha_lista)"
   ]
  },
  {
   "cell_type": "code",
   "execution_count": null,
   "id": "23c585a8-b8a1-4372-9e43-80f22385a1b6",
   "metadata": {},
   "outputs": [],
   "source": []
  }
 ],
 "metadata": {
  "kernelspec": {
   "display_name": "Python 3 (ipykernel)",
   "language": "python",
   "name": "python3"
  },
  "language_info": {
   "codemirror_mode": {
    "name": "ipython",
    "version": 3
   },
   "file_extension": ".py",
   "mimetype": "text/x-python",
   "name": "python",
   "nbconvert_exporter": "python",
   "pygments_lexer": "ipython3",
   "version": "3.10.5"
  }
 },
 "nbformat": 4,
 "nbformat_minor": 5
}
